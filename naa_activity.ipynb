{
 "cells": [
  {
   "cell_type": "code",
   "execution_count": 1,
   "metadata": {
    "hide_input": true,
    "init_cell": true
   },
   "outputs": [],
   "source": [
    "%reload_ext autoreload\n",
    "%autoreload 2"
   ]
  },
  {
   "cell_type": "markdown",
   "metadata": {
    "toc": true
   },
   "source": [
    "<h1>Neutron Activation Analysis (NAA)<span class=\"tocSkip\"></span></h1>\n",
    "<div class=\"toc\"><ul class=\"toc-item\"><li><span><a href=\"#Introduction\" data-toc-modified-id=\"Introduction-1\"><span class=\"toc-item-num\">1&nbsp;&nbsp;</span>Introduction</a></span></li><li><span><a href=\"#An-example-analysis\" data-toc-modified-id=\"An-example-analysis-2\"><span class=\"toc-item-num\">2&nbsp;&nbsp;</span>An example analysis</a></span></li><li><span><a href=\"#Do-your-own-analysis\" data-toc-modified-id=\"Do-your-own-analysis-3\"><span class=\"toc-item-num\">3&nbsp;&nbsp;</span>Do your own analysis</a></span></li></ul></div>"
   ]
  },
  {
   "cell_type": "markdown",
   "metadata": {},
   "source": [
    "------\n",
    "# Introduction\n",
    "Insert text here."
   ]
  },
  {
   "cell_type": "markdown",
   "metadata": {},
   "source": [
    "------\n",
    "# An example analysis\n",
    "First, we will load the energy spectrum from a data file."
   ]
  },
  {
   "cell_type": "code",
   "execution_count": 2,
   "metadata": {},
   "outputs": [
    {
     "data": {
      "application/vnd.jupyter.widget-view+json": {
       "model_id": "dfd8821cb74749b6b6606714e35eb190",
       "version_major": 2,
       "version_minor": 0
      },
      "text/plain": [
       "FigureWidget({\n",
       "    'data': [{'marker': {'color': 'darkblue', 'line': {'color': 'darkblue'}},\n",
       "              'na…"
      ]
     },
     "metadata": {},
     "output_type": "display_data"
    }
   ],
   "source": [
    "import naa.spectrum as sp\n",
    "ene = sp.EnergySpectrum('./data/SpectraPractice_1_C.TKA')\n",
    "ene.fig"
   ]
  },
  {
   "cell_type": "markdown",
   "metadata": {},
   "source": [
    "Next, we will fit some energy peaks in the spectrum. Use your cursor to zoom in on a peak you want to fit. Hover over bins to see the energy on which they are centered. Select lower and upper bounds (*low* and *high*) for the fit. Make a guess for the energy at which the peak is located (*center*)."
   ]
  },
  {
   "cell_type": "code",
   "execution_count": 3,
   "metadata": {},
   "outputs": [
    {
     "name": "stdout",
     "output_type": "stream",
     "text": [
      "[[Model]]\n",
      "    Model(gaussian_fit)\n",
      "[[Fit Statistics]]\n",
      "    # fitting method   = leastsq\n",
      "    # function evals   = 136\n",
      "    # data points      = 162\n",
      "    # variables        = 5\n",
      "    chi-square         = 3.0988e+08\n",
      "    reduced chi-square = 1973751.78\n",
      "    Akaike info crit   = 2353.18359\n",
      "    Bayesian info crit = 2368.62157\n",
      "[[Variables]]\n",
      "    p0:  1117170.58 +/- 1132.42937 (0.10%) (init = 613.4327)\n",
      "    p1:  305.490228 +/- 8.2390e-04 (0.00%) (init = 306.55)\n",
      "    p2:  0.69660025 +/- 8.1958e-04 (0.12%) (init = 5)\n",
      "    p3:  10062.5212 +/- 179.064676 (1.78%) (init = 254.0452)\n",
      "    p4:  1445.86918 +/- 115.015476 (7.95%) (init = 153.3582)\n",
      "[[Correlations]] (unreported correlations are < 0.100)\n",
      "    C(p3, p4) = -0.777\n",
      "    C(p0, p2) = -0.562\n",
      "    C(p1, p4) =  0.160\n",
      "    C(p1, p3) = -0.124 \n",
      "\n",
      "Peak Position = 305.490 keV\n",
      "Gaussian integral = 1950711.532 events\n"
     ]
    }
   ],
   "source": [
    "ene.fit_peak(low=254, center=306.55, high=340, is_verbose=True)"
   ]
  },
  {
   "cell_type": "markdown",
   "metadata": {},
   "source": [
    "------\n",
    "# Do your own analysis\n",
    "Insert text here."
   ]
  }
 ],
 "metadata": {
  "kernelspec": {
   "display_name": "Python 3",
   "language": "python",
   "name": "python3"
  },
  "language_info": {
   "codemirror_mode": {
    "name": "ipython",
    "version": 3
   },
   "file_extension": ".py",
   "mimetype": "text/x-python",
   "name": "python",
   "nbconvert_exporter": "python",
   "pygments_lexer": "ipython3",
   "version": "3.7.6"
  },
  "toc": {
   "base_numbering": 1,
   "nav_menu": {
    "height": "225px",
    "width": "328px"
   },
   "number_sections": true,
   "sideBar": true,
   "skip_h1_title": false,
   "title_cell": "Neutron Activation Analysis (NAA)",
   "title_sidebar": "Contents",
   "toc_cell": true,
   "toc_position": {
    "height": "calc(100% - 180px)",
    "left": "10px",
    "top": "150px",
    "width": "226px"
   },
   "toc_section_display": true,
   "toc_window_display": false
  }
 },
 "nbformat": 4,
 "nbformat_minor": 4
}
